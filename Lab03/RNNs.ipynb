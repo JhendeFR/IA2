{
 "cells": [
  {
   "cell_type": "code",
   "execution_count": 1,
   "id": "40eef6bd",
   "metadata": {},
   "outputs": [
    {
     "name": "stdout",
     "output_type": "stream",
     "text": [
      "Usando dispositivo: cuda\n",
      "GPU: NVIDIA GeForce RTX 4050 Laptop GPU\n"
     ]
    }
   ],
   "source": [
    "# ==== Librerías principales ====\n",
    "import os\n",
    "import numpy as np\n",
    "import pandas as pd\n",
    "import matplotlib.pyplot as plt\n",
    "\n",
    "# PyTorch\n",
    "import torch\n",
    "import torch.nn as nn\n",
    "import torch.optim as optim\n",
    "from torch.utils.data import Dataset, DataLoader\n",
    "\n",
    "# ==== Comprobación de dispositivo ====\n",
    "device = torch.device(\"cuda\" if torch.cuda.is_available() else \"cpu\")\n",
    "print(\"Usando dispositivo:\", device)\n",
    "if device.type == \"cuda\":\n",
    "    print(\"GPU:\", torch.cuda.get_device_name(0))\n",
    "\n",
    "# ==== Semillas para reproducibilidad ====\n",
    "SEED = 42\n",
    "np.random.seed(SEED)\n",
    "torch.manual_seed(SEED)\n",
    "if device.type == \"cuda\":\n",
    "    torch.cuda.manual_seed_all(SEED)\n",
    "\n",
    "# Configuración de gráficos\n",
    "plt.style.use(\"seaborn-v0_8\")\n"
   ]
  },
  {
   "cell_type": "code",
   "execution_count": null,
   "id": "c5f707db",
   "metadata": {},
   "outputs": [],
   "source": [
    "# Carga y comprobación inicial de datos para LSTM (Amazon_stock_data.csv)\n",
    "import pandas as pd\n",
    "import numpy as np\n",
    "from datetime import datetime\n",
    "\n",
    "# --- 1) Cargar CSV ---\n",
    "path = \"/mnt/data/Amazon_stock_data.csv\"\n",
    "df = pd.read_csv(path)\n",
    "\n",
    "# --- 2) Normalizar nombres de columnas (evitar espacios/casos) ---\n",
    "df.columns = [c.strip().replace(\" \", \"_\") for c in df.columns]\n",
    "\n",
    "# --- 3) Intentar detectar columna de fecha ---\n",
    "date_col_candidates = [c for c in df.columns if c.lower() in [\"date\", \"fecha\", \"timestamp\", \"datetime\"]]\n",
    "date_col = date_col_candidates[0] if date_col_candidates else None\n",
    "if date_col:\n",
    "    df[date_col] = pd.to_datetime(df[date_col], errors=\"coerce\")\n",
    "    # Orden cronológico y set index si aplica\n",
    "    df = df.sort_values(by=date_col).reset_index(drop=True)\n",
    "else:\n",
    "    # Si no hay columna fecha, crear índice temporal ficticio\n",
    "    date_col = \"idx_time\"\n",
    "    df[date_col] = pd.RangeIndex(start=0, stop=len(df), step=1)\n",
    "\n",
    "# --- 4) Tipos y valores faltantes ---\n",
    "dtypes = df.dtypes.astype(str).to_frame(\"dtype\")\n",
    "na_counts = df.isna().sum().to_frame(\"na_count\")\n",
    "summary_dtypes_na = dtypes.join(na_counts)\n",
    "\n",
    "# --- 5) Duplicados (por fila completa y por fecha si existe) ---\n",
    "full_dupes = int(df.duplicated().sum())\n",
    "date_dupes = int(df.duplicated(subset=[date_col]).sum()) if date_col in df.columns else 0\n",
    "\n",
    "# --- 6) Estadísticas numéricas básicas ---\n",
    "numeric_cols = df.select_dtypes(include=[np.number]).columns.tolist()\n",
    "desc = df[numeric_cols].describe().T if numeric_cols else pd.DataFrame()\n",
    "\n",
    "# --- 7) Mostrar dataframes al usuario ---\n",
    "preview_rows = min(25, len(df))\n",
    "print(\"Vista previa (primeras filas ordenadas por fecha):\")\n",
    "display(df.head(preview_rows))\n",
    "print(\"Tipos y valores faltantes por columna:\")\n",
    "display(summary_dtypes_na)\n",
    "if not desc.empty:\n",
    "    print(\"Estadísticas descriptivas (columnas numéricas):\")\n",
    "    display(desc)\n",
    "\n",
    "# --- 8) Informe textual breve ---\n",
    "print(\"Archivo cargado:\", path)\n",
    "print(\"Filas x Columnas:\", df.shape)\n",
    "print(\"Columna de fecha detectada:\", date_col)\n",
    "print(\"Duplicados de fila completos:\", full_dupes)\n",
    "print(\"Duplicados por fecha:\", date_dupes)\n",
    "print(\"Columnas numéricas:\", numeric_cols)\n"
   ]
  }
 ],
 "metadata": {
  "kernelspec": {
   "display_name": "Python 3",
   "language": "python",
   "name": "python3"
  },
  "language_info": {
   "codemirror_mode": {
    "name": "ipython",
    "version": 3
   },
   "file_extension": ".py",
   "mimetype": "text/x-python",
   "name": "python",
   "nbconvert_exporter": "python",
   "pygments_lexer": "ipython3",
   "version": "3.13.6"
  }
 },
 "nbformat": 4,
 "nbformat_minor": 5
}
